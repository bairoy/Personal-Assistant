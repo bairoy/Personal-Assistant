{
 "cells": [
  {
   "cell_type": "code",
   "execution_count": 2,
   "id": "38b8f447",
   "metadata": {},
   "outputs": [],
   "source": [
    "from langgraph.graph import START,END,StateGraph\n",
    "from langgraph.graph.message import add_messages \n",
    "from typing import TypedDict,Annotated\n",
    "from langchain_core.tools import tool"
   ]
  },
  {
   "cell_type": "code",
   "execution_count": 3,
   "id": "67e99c43",
   "metadata": {},
   "outputs": [],
   "source": [
    "class State(TypedDict):\n",
    "  messages:Annotated[list,add_messages]\n",
    "\n",
    "graph_builder = StateGraph(State)"
   ]
  },
  {
   "cell_type": "code",
   "execution_count": 4,
   "id": "9db851c5",
   "metadata": {},
   "outputs": [],
   "source": [
    "from langchain_openai import ChatOpenAI\n",
    "llm = ChatOpenAI()"
   ]
  },
  {
   "cell_type": "code",
   "execution_count": null,
   "id": "b5f63a98",
   "metadata": {},
   "outputs": [
    {
     "data": {
      "text/plain": [
       "True"
      ]
     },
     "execution_count": 14,
     "metadata": {},
     "output_type": "execute_result"
    }
   ],
   "source": [
    "import webbrowser \n",
    "url = \"https://www.geeksforgeeks.org/\"\n",
    "webbrowser.open(url)"
   ]
  },
  {
   "cell_type": "code",
   "execution_count": 5,
   "id": "126504d7",
   "metadata": {},
   "outputs": [],
   "source": [
    "from typing_extensions import Annotated,TypedDict\n",
    "\n",
    "class Link(TypedDict):\n",
    "  \"\"\"Get the link for website.\"\"\"\n",
    "\n",
    "  link:Annotated[str,...,\"link for the website\"]\n"
   ]
  },
  {
   "cell_type": "code",
   "execution_count": 7,
   "id": "b4dd0578",
   "metadata": {},
   "outputs": [
    {
     "name": "stderr",
     "output_type": "stream",
     "text": [
      "/Users/baijuyadav/Desktop/chatty/.venv/lib/python3.12/site-packages/langchain_openai/chat_models/base.py:1909: UserWarning: Cannot use method='json_schema' with model gpt-3.5-turbo since it doesn't support OpenAI's Structured Output API. You can see supported models here: https://platform.openai.com/docs/guides/structured-outputs#supported-models. To fix this warning, set `method='function_calling'. Overriding to method='function_calling'.\n",
      "  warnings.warn(\n"
     ]
    }
   ],
   "source": [
    "structured_llm = llm.with_structured_output(Link)"
   ]
  },
  {
   "cell_type": "code",
   "execution_count": 8,
   "id": "1d0aa836",
   "metadata": {},
   "outputs": [],
   "source": [
    "response = structured_llm.invoke(\"what is the url of canva\")"
   ]
  },
  {
   "cell_type": "code",
   "execution_count": 9,
   "id": "fba9f644",
   "metadata": {},
   "outputs": [
    {
     "data": {
      "text/plain": [
       "True"
      ]
     },
     "execution_count": 9,
     "metadata": {},
     "output_type": "execute_result"
    }
   ],
   "source": [
    "import webbrowser \n",
    "url = response[\"link\"]\n",
    "webbrowser.open(url)"
   ]
  },
  {
   "cell_type": "code",
   "execution_count": 10,
   "id": "08310b37",
   "metadata": {},
   "outputs": [],
   "source": [
    "@tool\n",
    "def open_url(inputs):\n",
    "  \"\"\"a simple url opener tool that opens the url in browser\"\"\"\n",
    "  link = inputs.get('link')\n",
    "  webbrowser.open(link)\n",
    "\n"
   ]
  },
  {
   "cell_type": "code",
   "execution_count": null,
   "id": "7d033514",
   "metadata": {},
   "outputs": [],
   "source": []
  }
 ],
 "metadata": {
  "kernelspec": {
   "display_name": "chatty",
   "language": "python",
   "name": "python3"
  },
  "language_info": {
   "codemirror_mode": {
    "name": "ipython",
    "version": 3
   },
   "file_extension": ".py",
   "mimetype": "text/x-python",
   "name": "python",
   "nbconvert_exporter": "python",
   "pygments_lexer": "ipython3",
   "version": "3.12.6"
  }
 },
 "nbformat": 4,
 "nbformat_minor": 5
}
